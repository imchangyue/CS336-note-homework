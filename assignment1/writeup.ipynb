{
 "cells": [
  {
   "cell_type": "code",
   "execution_count": 1,
   "id": "36a0e552",
   "metadata": {},
   "outputs": [
    {
     "data": {
      "text/plain": [
       "'\\x00'"
      ]
     },
     "execution_count": 1,
     "metadata": {},
     "output_type": "execute_result"
    }
   ],
   "source": [
    "chr(0)"
   ]
  },
  {
   "cell_type": "code",
   "execution_count": 2,
   "id": "e629d3de",
   "metadata": {},
   "outputs": [
    {
     "name": "stdout",
     "output_type": "stream",
     "text": [
      "\u0000\n"
     ]
    }
   ],
   "source": [
    "print(chr(0))  # 输出 chr(0) 的打印表示"
   ]
  },
  {
   "cell_type": "code",
   "execution_count": 9,
   "id": "47f126ad",
   "metadata": {},
   "outputs": [
    {
     "data": {
      "text/plain": [
       "'this is a test string with a null character: \\x00 end of string'"
      ]
     },
     "execution_count": 9,
     "metadata": {},
     "output_type": "execute_result"
    }
   ],
   "source": [
    "\"this is a test string with a null character: \" + chr(0) + \" end of string\""
   ]
  },
  {
   "cell_type": "code",
   "execution_count": 10,
   "id": "cf7b05fb",
   "metadata": {},
   "outputs": [
    {
     "name": "stdout",
     "output_type": "stream",
     "text": [
      "this is a test string with a null character: \u0000 end of string\n"
     ]
    }
   ],
   "source": [
    "print(\"this is a test string with a null character: \" + chr(0) + \" end of string\")"
   ]
  },
  {
   "cell_type": "code",
   "execution_count": 13,
   "id": "7ba77281",
   "metadata": {},
   "outputs": [
    {
     "name": "stdout",
     "output_type": "stream",
     "text": [
      "UTF-8 编码的字符串: b'hello! \\xe3\\x81\\x93\\xe3\\x82\\x93\\xe3\\x81\\xab\\xe3\\x81\\xa1\\xe3\\x81\\xaf!'\n",
      "23\n"
     ]
    }
   ],
   "source": [
    "test_string = \"hello! こんにちは!\"\n",
    "utf8_encoded = test_string.encode(\"utf-8\")\n",
    "print(f\"UTF-8 编码的字符串: {utf8_encoded}\")\n",
    "print(len(list(utf8_encoded)))  # 输出 UTF-8 编码后的字节数"
   ]
  },
  {
   "cell_type": "code",
   "execution_count": 18,
   "id": "9e1b6152",
   "metadata": {},
   "outputs": [
    {
     "name": "stdout",
     "output_type": "stream",
     "text": [
      "UTF-16 编码的字符串: b'\\xff\\xfeh\\x00e\\x00l\\x00l\\x00o\\x00!\\x00 \\x00S0\\x930k0a0o0!\\x00'\n",
      "28\n",
      "255 0\n"
     ]
    }
   ],
   "source": [
    "test_string = \"hello! こんにちは!\"\n",
    "utf16_encoded = test_string.encode(\"utf-16\")\n",
    "print(f\"UTF-16 编码的字符串: {utf16_encoded}\")\n",
    "print(len(list(utf16_encoded)))\n",
    "print(max(list(utf32_encoded)),min(list(utf32_encoded)))  # 输出 UTF-32 编码后的最大和最小字节值"
   ]
  },
  {
   "cell_type": "code",
   "execution_count": 17,
   "id": "cb60f6e3",
   "metadata": {},
   "outputs": [
    {
     "name": "stdout",
     "output_type": "stream",
     "text": [
      "UTF-32 编码的字符串: b'\\xff\\xfe\\x00\\x00h\\x00\\x00\\x00e\\x00\\x00\\x00l\\x00\\x00\\x00l\\x00\\x00\\x00o\\x00\\x00\\x00!\\x00\\x00\\x00 \\x00\\x00\\x00S0\\x00\\x00\\x930\\x00\\x00k0\\x00\\x00a0\\x00\\x00o0\\x00\\x00!\\x00\\x00\\x00'\n",
      "56\n",
      "255 0\n"
     ]
    }
   ],
   "source": [
    "test_string = \"hello! こんにちは!\"\n",
    "utf32_encoded = test_string.encode(\"utf-32\")\n",
    "print(f\"UTF-32 编码的字符串: {utf32_encoded}\")\n",
    "print(len(list(utf32_encoded)))  # 输出 UTF-32 编码后的字节\n",
    "print(max(list(utf32_encoded)),min(list(utf32_encoded)))  # 输出 UTF-32 编码后的最大和最小字节值"
   ]
  },
  {
   "cell_type": "code",
   "execution_count": 23,
   "id": "9a6a6079",
   "metadata": {},
   "outputs": [
    {
     "ename": "UnicodeDecodeError",
     "evalue": "'utf-8' codec can't decode byte 0xe3 in position 0: unexpected end of data",
     "output_type": "error",
     "traceback": [
      "\u001b[31m---------------------------------------------------------------------------\u001b[39m",
      "\u001b[31mUnicodeDecodeError\u001b[39m                        Traceback (most recent call last)",
      "\u001b[36mCell\u001b[39m\u001b[36m \u001b[39m\u001b[32mIn[23]\u001b[39m\u001b[32m, line 3\u001b[39m\n\u001b[32m      1\u001b[39m \u001b[38;5;28;01mdef\u001b[39;00m\u001b[38;5;250m \u001b[39m\u001b[34mdecode_utf8_bytes_to_str_wrong\u001b[39m(bytestring: \u001b[38;5;28mbytes\u001b[39m):\n\u001b[32m      2\u001b[39m     \u001b[38;5;28;01mreturn\u001b[39;00m \u001b[33m\"\u001b[39m\u001b[33m\"\u001b[39m.join([\u001b[38;5;28mbytes\u001b[39m([b]).decode(\u001b[33m\"\u001b[39m\u001b[33mutf-8\u001b[39m\u001b[33m\"\u001b[39m) \u001b[38;5;28;01mfor\u001b[39;00m b \u001b[38;5;129;01min\u001b[39;00m bytestring])\n\u001b[32m----> \u001b[39m\u001b[32m3\u001b[39m \u001b[43mdecode_utf8_bytes_to_str_wrong\u001b[49m\u001b[43m(\u001b[49m\u001b[33;43m\"\u001b[39;49m\u001b[33;43mhello! こんにちは!\u001b[39;49m\u001b[33;43m\"\u001b[39;49m\u001b[43m.\u001b[49m\u001b[43mencode\u001b[49m\u001b[43m(\u001b[49m\u001b[33;43m\"\u001b[39;49m\u001b[33;43mutf-8\u001b[39;49m\u001b[33;43m\"\u001b[39;49m\u001b[43m)\u001b[49m\u001b[43m)\u001b[49m\n",
      "\u001b[36mCell\u001b[39m\u001b[36m \u001b[39m\u001b[32mIn[23]\u001b[39m\u001b[32m, line 2\u001b[39m, in \u001b[36mdecode_utf8_bytes_to_str_wrong\u001b[39m\u001b[34m(bytestring)\u001b[39m\n\u001b[32m      1\u001b[39m \u001b[38;5;28;01mdef\u001b[39;00m\u001b[38;5;250m \u001b[39m\u001b[34mdecode_utf8_bytes_to_str_wrong\u001b[39m(bytestring: \u001b[38;5;28mbytes\u001b[39m):\n\u001b[32m----> \u001b[39m\u001b[32m2\u001b[39m     \u001b[38;5;28;01mreturn\u001b[39;00m \u001b[33m\"\u001b[39m\u001b[33m\"\u001b[39m.join([\u001b[38;5;28;43mbytes\u001b[39;49m\u001b[43m(\u001b[49m\u001b[43m[\u001b[49m\u001b[43mb\u001b[49m\u001b[43m]\u001b[49m\u001b[43m)\u001b[49m\u001b[43m.\u001b[49m\u001b[43mdecode\u001b[49m\u001b[43m(\u001b[49m\u001b[33;43m\"\u001b[39;49m\u001b[33;43mutf-8\u001b[39;49m\u001b[33;43m\"\u001b[39;49m\u001b[43m)\u001b[49m \u001b[38;5;28;01mfor\u001b[39;00m b \u001b[38;5;129;01min\u001b[39;00m bytestring])\n",
      "\u001b[31mUnicodeDecodeError\u001b[39m: 'utf-8' codec can't decode byte 0xe3 in position 0: unexpected end of data"
     ]
    }
   ],
   "source": [
    "def decode_utf8_bytes_to_str_wrong(bytestring: bytes):\n",
    "    return \"\".join([bytes([b]).decode(\"utf-8\") for b in bytestring])\n",
    "decode_utf8_bytes_to_str_wrong(\"hello! こんにちは!\".encode(\"utf-8\"))"
   ]
  },
  {
   "cell_type": "code",
   "execution_count": 24,
   "id": "817fa5f7",
   "metadata": {},
   "outputs": [
    {
     "name": "stdout",
     "output_type": "stream",
     "text": [
      "解码错误: 'utf-8' codec can't decode byte 0xc0 in position 0: invalid start byte\n"
     ]
    }
   ],
   "source": [
    "try:\n",
    "    b = bytes([0xC0, 0x80])\n",
    "    s = b.decode('utf-8')\n",
    "    print(f\"解码结果: {s}\")\n",
    "except UnicodeDecodeError as e:\n",
    "    print(f\"解码错误: {e}\")"
   ]
  },
  {
   "cell_type": "code",
   "execution_count": null,
   "id": "a2c7b83d",
   "metadata": {},
   "outputs": [
    {
     "name": "stdout",
     "output_type": "stream",
     "text": [
      "u don't have to be scared of the loud dog, I'll protect you\". The mole felt so safe with the little girl. She was very kind and the mole soon came to trust her. He leaned against her and she kept him safe. The mole had found his best friend.\n",
      "\n",
      "['u', ' don', \"'t\", ' have', ' to', ' be', ' scared', ' of', ' the', ' loud', ' dog', ',', ' I', \"'ll\", ' protect', ' you', '\".', ' The', ' mole', ' felt', ' so', ' safe', ' with', ' the', ' little', ' girl', '.', ' She', ' was', ' very', ' kind', ' and', ' the', ' mole', ' soon', ' came', ' to', ' trust', ' her', '.', ' He', ' leaned', ' against', ' her', ' and', ' she', ' kept', ' him', ' safe', '.', ' The', ' mole', ' had', ' found', ' his', ' best', ' friend', '.', '\\n']\n"
     ]
    }
   ],
   "source": [
    "import regex as re\n",
    "import os\n",
    "def run_train_bpe(\n",
    "    input_path: str | os.PathLike,\n",
    "    vocab_size: int,\n",
    "    special_tokens: list[str],\n",
    "    **kwargs,\n",
    ") -> tuple[dict[int, bytes], list[tuple[bytes, bytes]]]:\n",
    "    with open(input_path, 'r', encoding='utf-8') as f:\n",
    "        data = f.read()\n",
    "    # 首先处理特殊标记\n",
    "    if special_tokens is None:\n",
    "        special_tokens = []\n",
    "    delimiter_pattern = \"|\".join(re.escape(s) for s in special_tokens)\n",
    "    parts = re.split(delimiter_pattern, data)\n",
    "    parts = parts[:2]\n",
    "\n",
    "    # # 正则表达式\n",
    "    PAT = r\"\"\"'(?:[sdmt]|ll|ve|re)| ?\\p{L}+| ?\\p{N}+| ?[^\\s\\p{L}\\p{N}]+|\\s+(?!\\S)|\\s+\"\"\"\n",
    "    tokens = []\n",
    "    token_number = {}\n",
    "    for part in parts:\n",
    "        tokens+=re.findall(PAT,part)\n",
    "    for token in tokens:\n",
    "        if token in token_number:\n",
    "            token_number[token] = token_number[token] + 1\n",
    "        else: \n",
    "            token_number[token] = 1\n",
    "\n",
    "    print(tokens)\n",
    "\n",
    "\n",
    "run_train_bpe(\"./data/TinyStoriesV2-GPT4-valid.txt\",255,[\"<|endoftext|>\"])"
   ]
  }
 ],
 "metadata": {
  "kernelspec": {
   "display_name": "Python 3",
   "language": "python",
   "name": "python3"
  },
  "language_info": {
   "codemirror_mode": {
    "name": "ipython",
    "version": 3
   },
   "file_extension": ".py",
   "mimetype": "text/x-python",
   "name": "python",
   "nbconvert_exporter": "python",
   "pygments_lexer": "ipython3",
   "version": "3.12.3"
  }
 },
 "nbformat": 4,
 "nbformat_minor": 5
}
